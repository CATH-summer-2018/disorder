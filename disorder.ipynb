{
 "cells": [
  {
   "cell_type": "code",
   "execution_count": null,
   "metadata": {
    "ExecuteTime": {
     "end_time": "2018-06-29T11:32:12.698765Z",
     "start_time": "2018-06-29T11:32:12.695006Z"
    }
   },
   "outputs": [],
   "source": [
    "from Bio import SeqIO\n",
    "import pandas as pd\n",
    "import matplotlib\n",
    "import matplotlib.pyplot as plt\n",
    "import os\n",
    "%matplotlib inline"
   ]
  },
  {
   "cell_type": "code",
   "execution_count": null,
   "metadata": {
    "ExecuteTime": {
     "end_time": "2018-06-29T11:15:24.199067Z",
     "start_time": "2018-06-29T11:15:24.040443Z"
    }
   },
   "outputs": [],
   "source": [
    "!./iupred2a.py test/1ay0A01.fa long > test.results"
   ]
  },
  {
   "cell_type": "code",
   "execution_count": null,
   "metadata": {
    "ExecuteTime": {
     "end_time": "2018-06-29T11:39:43.103172Z",
     "start_time": "2018-06-29T11:39:42.987608Z"
    }
   },
   "outputs": [],
   "source": [
    "!rm -r individual_fasta/"
   ]
  },
  {
   "cell_type": "code",
   "execution_count": null,
   "metadata": {
    "ExecuteTime": {
     "end_time": "2018-06-29T11:40:02.213324Z",
     "start_time": "2018-06-29T11:39:44.049361Z"
    }
   },
   "outputs": [],
   "source": [
    "for file in os.listdir('./input/'):\n",
    "    sfam = file[22:-3]\n",
    "    os.makedirs('./individual_fasta/' + sfam)\n",
    "    fasta_sequences = SeqIO.parse(open('./input/'+file),'fasta')\n",
    "    for fasta in fasta_sequences:\n",
    "        name, seq = fasta.id[13:20], str(fasta.seq)\n",
    "        with open('./individual_fasta/'+sfam+\"/\"+name, 'w') as f:\n",
    "            f.write(seq)\n",
    "    "
   ]
  },
  {
   "cell_type": "code",
   "execution_count": null,
   "metadata": {
    "ExecuteTime": {
     "end_time": "2018-06-29T11:09:48.977249Z",
     "start_time": "2018-06-29T11:09:48.909177Z"
    }
   },
   "outputs": [],
   "source": [
    "    fasta_sequences = SeqIO.parse(open('./cath-superfamily-seqs-3.40.50.970.fa'),'fasta')\n",
    "    for fasta in fasta_sequences:\n",
    "        name, seq = fasta.id[13:20], str(fasta.seq)\n",
    "        with open('./' + name + \".fa\", 'w') as f:\n",
    "            f.write(seq)"
   ]
  },
  {
   "cell_type": "code",
   "execution_count": null,
   "metadata": {
    "ExecuteTime": {
     "end_time": "2018-06-29T11:15:50.780121Z",
     "start_time": "2018-06-29T11:15:50.730271Z"
    }
   },
   "outputs": [],
   "source": [
    "df = pd.read_csv('./test.results', sep='\\t', index_col=0)\n",
    "df[df.DIS > 0.7]"
   ]
  },
  {
   "cell_type": "code",
   "execution_count": null,
   "metadata": {
    "ExecuteTime": {
     "end_time": "2018-06-29T11:22:49.306386Z",
     "start_time": "2018-06-29T11:22:49.113629Z"
    }
   },
   "outputs": [],
   "source": [
    "df.DIS.plot(figsize=(20,5))"
   ]
  },
  {
   "cell_type": "code",
   "execution_count": null,
   "metadata": {
    "ExecuteTime": {
     "start_time": "2018-06-29T11:46:09.889Z"
    }
   },
   "outputs": [],
   "source": [
    "%%bash\n",
    "for f in individual_fasta/*/*; do\n",
    "  ./iupred2a.py $f long > $f.results\n",
    "done\n"
   ]
  },
  {
   "cell_type": "code",
   "execution_count": null,
   "metadata": {},
   "outputs": [],
   "source": []
  }
 ],
 "metadata": {
  "hide_input": false,
  "kernelspec": {
   "display_name": "Python 3",
   "language": "python",
   "name": "python3"
  },
  "language_info": {
   "codemirror_mode": {
    "name": "ipython",
    "version": 3
   },
   "file_extension": ".py",
   "mimetype": "text/x-python",
   "name": "python",
   "nbconvert_exporter": "python",
   "pygments_lexer": "ipython3",
   "version": "3.6.5"
  },
  "varInspector": {
   "cols": {
    "lenName": 16,
    "lenType": 16,
    "lenVar": 40
   },
   "kernels_config": {
    "python": {
     "delete_cmd_postfix": "",
     "delete_cmd_prefix": "del ",
     "library": "var_list.py",
     "varRefreshCmd": "print(var_dic_list())"
    },
    "r": {
     "delete_cmd_postfix": ") ",
     "delete_cmd_prefix": "rm(",
     "library": "var_list.r",
     "varRefreshCmd": "cat(var_dic_list()) "
    }
   },
   "position": {
    "height": "125px",
    "left": "583px",
    "right": "20px",
    "top": "120px",
    "width": "350px"
   },
   "types_to_exclude": [
    "module",
    "function",
    "builtin_function_or_method",
    "instance",
    "_Feature"
   ],
   "window_display": false
  }
 },
 "nbformat": 4,
 "nbformat_minor": 2
}
